{
  "nbformat": 4,
  "nbformat_minor": 0,
  "metadata": {
    "colab": {
      "provenance": [],
      "gpuType": "T4"
    },
    "kernelspec": {
      "name": "python3",
      "display_name": "Python 3"
    },
    "language_info": {
      "name": "python"
    },
    "accelerator": "GPU"
  },
  "cells": [
    {
      "cell_type": "code",
      "metadata": {
        "id": "N0CPdYmnntG-"
      },
      "source": [
        "import keras\n",
        "from keras import layers\n"
      ],
      "execution_count": null,
      "outputs": []
    },
    {
      "cell_type": "code",
      "metadata": {
        "id": "i99TK9H2n3Ll"
      },
      "source": [
        "# Encoder\n",
        "input_img = keras.Input(shape=(28, 28, 1))\n",
        "x = layers.Conv2D(16, (3, 3), activation='relu', padding='same')(input_img)\n",
        "x = layers.MaxPooling2D((2, 2), padding='same')(x)\n",
        "x = layers.Conv2D(8, (3, 3), activation='relu', padding='same')(x)\n",
        "x = layers.MaxPooling2D((2, 2), padding='same')(x)\n",
        "x = layers.Conv2D(8, (3, 3), activation='relu', padding='same')(x)\n",
        "encoded = layers.MaxPooling2D((2, 2), padding='same')(x)"
      ],
      "execution_count": null,
      "outputs": []
    },
    {
      "cell_type": "code",
      "metadata": {
        "id": "_P-bJaZvn-z5"
      },
      "source": [
        "# Decoder\n",
        "x = layers.Conv2D(8, (3, 3), activation='relu', padding='same')(encoded)\n",
        "x = layers.UpSampling2D((2, 2))(x)\n",
        "x = layers.Conv2D(8, (3, 3), activation='relu', padding='same')(x)\n",
        "x = layers.UpSampling2D((2, 2))(x)\n",
        "x = layers.Conv2D(16, (3, 3), activation='relu')(x)\n",
        "x = layers.UpSampling2D((2, 2))(x)\n",
        "decoded = layers.Conv2D(1, (3, 3), activation='sigmoid', padding='same')(x)"
      ],
      "execution_count": null,
      "outputs": []
    },
    {
      "cell_type": "code",
      "metadata": {
        "colab": {
          "base_uri": "https://localhost:8080/"
        },
        "id": "C_ufnjjPoKXo",
        "outputId": "8caae4de-bbf5-464a-9828-b0c145f990d5"
      },
      "source": [
        "autoencoder = keras.Model(input_img, decoded)\n",
        "autoencoder.compile(optimizer='adam', loss='binary_crossentropy',metrics=['accuracy'])\n",
        "autoencoder.summary()"
      ],
      "execution_count": null,
      "outputs": [
        {
          "output_type": "stream",
          "name": "stdout",
          "text": [
            "Model: \"model\"\n",
            "_________________________________________________________________\n",
            " Layer (type)                Output Shape              Param #   \n",
            "=================================================================\n",
            " input_1 (InputLayer)        [(None, 28, 28, 1)]       0         \n",
            "                                                                 \n",
            " conv2d (Conv2D)             (None, 28, 28, 16)        160       \n",
            "                                                                 \n",
            " max_pooling2d (MaxPooling2D  (None, 14, 14, 16)       0         \n",
            " )                                                               \n",
            "                                                                 \n",
            " conv2d_1 (Conv2D)           (None, 14, 14, 8)         1160      \n",
            "                                                                 \n",
            " max_pooling2d_1 (MaxPooling  (None, 7, 7, 8)          0         \n",
            " 2D)                                                             \n",
            "                                                                 \n",
            " conv2d_2 (Conv2D)           (None, 7, 7, 8)           584       \n",
            "                                                                 \n",
            " max_pooling2d_2 (MaxPooling  (None, 4, 4, 8)          0         \n",
            " 2D)                                                             \n",
            "                                                                 \n",
            " conv2d_3 (Conv2D)           (None, 4, 4, 8)           584       \n",
            "                                                                 \n",
            " up_sampling2d (UpSampling2D  (None, 8, 8, 8)          0         \n",
            " )                                                               \n",
            "                                                                 \n",
            " conv2d_4 (Conv2D)           (None, 8, 8, 8)           584       \n",
            "                                                                 \n",
            " up_sampling2d_1 (UpSampling  (None, 16, 16, 8)        0         \n",
            " 2D)                                                             \n",
            "                                                                 \n",
            " conv2d_5 (Conv2D)           (None, 14, 14, 16)        1168      \n",
            "                                                                 \n",
            " up_sampling2d_2 (UpSampling  (None, 28, 28, 16)       0         \n",
            " 2D)                                                             \n",
            "                                                                 \n",
            " conv2d_6 (Conv2D)           (None, 28, 28, 1)         145       \n",
            "                                                                 \n",
            "=================================================================\n",
            "Total params: 4,385\n",
            "Trainable params: 4,385\n",
            "Non-trainable params: 0\n",
            "_________________________________________________________________\n"
          ]
        }
      ]
    },
    {
      "cell_type": "code",
      "metadata": {
        "id": "UG8YE2yqoRTb"
      },
      "source": [],
      "execution_count": null,
      "outputs": []
    },
    {
      "cell_type": "code",
      "metadata": {
        "id": "G6cLqPhsoSEq",
        "colab": {
          "base_uri": "https://localhost:8080/"
        },
        "outputId": "ee2697a9-e5c9-4618-f6a1-4c44ddaee2cd"
      },
      "source": [
        "from keras.datasets import mnist\n",
        "import numpy as np\n",
        "\n",
        "(x_train, _), (x_test, _) = mnist.load_data()"
      ],
      "execution_count": null,
      "outputs": [
        {
          "output_type": "stream",
          "name": "stdout",
          "text": [
            "Downloading data from https://storage.googleapis.com/tensorflow/tf-keras-datasets/mnist.npz\n",
            "11490434/11490434 [==============================] - 2s 0us/step\n"
          ]
        }
      ]
    },
    {
      "cell_type": "code",
      "metadata": {
        "id": "vaBQGe7soWQr"
      },
      "source": [
        "x_train = x_train.astype('float32') / 255.\n",
        "x_test = x_test.astype('float32') / 255.\n",
        "x_train = np.reshape(x_train, (len(x_train), 28, 28, 1))\n",
        "x_test = np.reshape(x_test, (len(x_test), 28, 28, 1))"
      ],
      "execution_count": null,
      "outputs": []
    },
    {
      "cell_type": "code",
      "metadata": {
        "id": "oFuw5RQvFRmU"
      },
      "source": [
        "# Test dataset\n",
        "import random as r\n",
        "k=20\n",
        "data=np.zeros((k,28,28,1))\n",
        "for i in range(k):\n",
        "    data[i,:,:]=x_test[r.randint(0,10000),:,:]\n"
      ],
      "execution_count": null,
      "outputs": []
    },
    {
      "cell_type": "code",
      "metadata": {
        "colab": {
          "base_uri": "https://localhost:8080/"
        },
        "id": "d1z1lnIOoYzs",
        "outputId": "421497d0-431e-4084-8ec0-5feaafaa0129"
      },
      "source": [
        "autoencoder.fit(x_train, x_train,\n",
        "                epochs=20, #50,\n",
        "                batch_size=128,\n",
        "                shuffle=True,\n",
        "                validation_data=(x_test, x_test))\n"
      ],
      "execution_count": null,
      "outputs": [
        {
          "output_type": "stream",
          "name": "stdout",
          "text": [
            "Epoch 1/20\n",
            "469/469 [==============================] - 20s 16ms/step - loss: 0.2212 - accuracy: 0.7920 - val_loss: 0.1429 - val_accuracy: 0.8023\n",
            "Epoch 2/20\n",
            "469/469 [==============================] - 6s 13ms/step - loss: 0.1309 - accuracy: 0.8057 - val_loss: 0.1215 - val_accuracy: 0.8064\n",
            "Epoch 3/20\n",
            "469/469 [==============================] - 7s 14ms/step - loss: 0.1187 - accuracy: 0.8086 - val_loss: 0.1145 - val_accuracy: 0.8090\n",
            "Epoch 4/20\n",
            "469/469 [==============================] - 7s 15ms/step - loss: 0.1130 - accuracy: 0.8098 - val_loss: 0.1097 - val_accuracy: 0.8095\n",
            "Epoch 5/20\n",
            "469/469 [==============================] - 7s 15ms/step - loss: 0.1094 - accuracy: 0.8105 - val_loss: 0.1068 - val_accuracy: 0.8103\n",
            "Epoch 6/20\n",
            "469/469 [==============================] - 7s 15ms/step - loss: 0.1069 - accuracy: 0.8110 - val_loss: 0.1048 - val_accuracy: 0.8106\n",
            "Epoch 7/20\n",
            "469/469 [==============================] - 7s 15ms/step - loss: 0.1051 - accuracy: 0.8113 - val_loss: 0.1032 - val_accuracy: 0.8101\n",
            "Epoch 8/20\n",
            "469/469 [==============================] - 7s 15ms/step - loss: 0.1037 - accuracy: 0.8115 - val_loss: 0.1018 - val_accuracy: 0.8106\n",
            "Epoch 9/20\n",
            "469/469 [==============================] - 7s 14ms/step - loss: 0.1025 - accuracy: 0.8117 - val_loss: 0.1008 - val_accuracy: 0.8109\n",
            "Epoch 10/20\n",
            "469/469 [==============================] - 7s 15ms/step - loss: 0.1015 - accuracy: 0.8119 - val_loss: 0.1001 - val_accuracy: 0.8106\n",
            "Epoch 11/20\n",
            "469/469 [==============================] - 7s 14ms/step - loss: 0.1007 - accuracy: 0.8120 - val_loss: 0.0989 - val_accuracy: 0.8111\n",
            "Epoch 12/20\n",
            "469/469 [==============================] - 7s 15ms/step - loss: 0.1000 - accuracy: 0.8122 - val_loss: 0.0982 - val_accuracy: 0.8114\n",
            "Epoch 13/20\n",
            "469/469 [==============================] - 7s 14ms/step - loss: 0.0992 - accuracy: 0.8123 - val_loss: 0.0980 - val_accuracy: 0.8117\n",
            "Epoch 14/20\n",
            "469/469 [==============================] - 7s 15ms/step - loss: 0.0986 - accuracy: 0.8124 - val_loss: 0.0975 - val_accuracy: 0.8119\n",
            "Epoch 15/20\n",
            "469/469 [==============================] - 7s 14ms/step - loss: 0.0980 - accuracy: 0.8125 - val_loss: 0.0966 - val_accuracy: 0.8117\n",
            "Epoch 16/20\n",
            "469/469 [==============================] - 7s 15ms/step - loss: 0.0975 - accuracy: 0.8126 - val_loss: 0.0965 - val_accuracy: 0.8121\n",
            "Epoch 17/20\n",
            "469/469 [==============================] - 7s 15ms/step - loss: 0.0971 - accuracy: 0.8127 - val_loss: 0.0961 - val_accuracy: 0.8122\n",
            "Epoch 18/20\n",
            "469/469 [==============================] - 7s 14ms/step - loss: 0.0967 - accuracy: 0.8127 - val_loss: 0.0951 - val_accuracy: 0.8119\n",
            "Epoch 19/20\n",
            "469/469 [==============================] - 7s 14ms/step - loss: 0.0963 - accuracy: 0.8128 - val_loss: 0.0949 - val_accuracy: 0.8119\n",
            "Epoch 20/20\n",
            "469/469 [==============================] - 7s 15ms/step - loss: 0.0959 - accuracy: 0.8129 - val_loss: 0.0947 - val_accuracy: 0.8118\n"
          ]
        },
        {
          "output_type": "execute_result",
          "data": {
            "text/plain": [
              "<keras.callbacks.History at 0x7eff80032250>"
            ]
          },
          "metadata": {},
          "execution_count": 8
        }
      ]
    },
    {
      "cell_type": "code",
      "metadata": {
        "id": "yYhuLHqpGuBG"
      },
      "source": [
        "w=autoencoder.get_weights()[0]"
      ],
      "execution_count": null,
      "outputs": []
    },
    {
      "cell_type": "code",
      "metadata": {
        "colab": {
          "base_uri": "https://localhost:8080/"
        },
        "id": "xArHrtQ2G1pS",
        "outputId": "5a059d0d-06db-47b1-a663-a5c6c8f04820"
      },
      "source": [
        "w[:,:,:,:]"
      ],
      "execution_count": null,
      "outputs": [
        {
          "output_type": "execute_result",
          "data": {
            "text/plain": [
              "array([[[[-0.29249373,  0.28998828,  0.1482748 ,  0.04298778,\n",
              "           0.14400537, -0.22611468, -0.60687816,  0.26967925,\n",
              "          -0.06899324,  0.12663606,  0.0602692 , -0.00892408,\n",
              "           0.01797591,  0.30087724,  0.09281215, -0.30846244]],\n",
              "\n",
              "        [[-0.11403231, -0.12999152,  0.12863037,  0.49421605,\n",
              "           0.21284956,  0.07301638, -0.45406288,  0.23616706,\n",
              "          -0.32344806, -0.117464  , -0.0271323 ,  0.14547624,\n",
              "           0.00130958,  0.18648055,  0.01612644, -0.2721369 ]],\n",
              "\n",
              "        [[-0.12240473, -0.02190754,  0.00522949,  0.03310888,\n",
              "           0.3641897 ,  0.48087844, -0.12797917,  0.18039891,\n",
              "          -0.21271297,  0.06204593, -0.00522211,  0.14428899,\n",
              "           0.08147377,  0.0973046 , -0.04065048,  0.03809505]]],\n",
              "\n",
              "\n",
              "       [[[ 0.25411183,  0.07642096,  0.11293322, -0.0127373 ,\n",
              "          -0.1325993 , -0.31104758, -0.24693298,  0.13940331,\n",
              "           0.07908221,  0.10905899,  0.01105538,  0.12650955,\n",
              "           0.37707084,  0.06118975, -0.03907879, -0.25380215]],\n",
              "\n",
              "        [[ 0.3627213 , -0.11340203,  0.2802955 ,  0.00425004,\n",
              "          -0.10618874,  0.06791359, -0.17515515,  0.03865817,\n",
              "          -0.08821282, -0.14415887,  0.45558712,  0.23196813,\n",
              "          -0.02416434, -0.07658963,  0.20248543,  0.00249104]],\n",
              "\n",
              "        [[ 0.11710795, -0.16876142, -0.16030763,  0.01151973,\n",
              "           0.13396287,  0.10758372, -0.19435968,  0.09142818,\n",
              "          -0.1328698 ,  0.23439574,  0.26447684,  0.1568302 ,\n",
              "          -0.0435186 ,  0.03222619, -0.04630018,  0.24651824]]],\n",
              "\n",
              "\n",
              "       [[[-0.01979884,  0.3273463 ,  0.09400291, -0.00276292,\n",
              "           0.26236624, -0.42497367,  0.11958037,  0.18729787,\n",
              "           0.32048598,  0.22411664,  0.01111611,  0.07754682,\n",
              "           0.11051064, -0.02805629,  0.1493831 , -0.17103973]],\n",
              "\n",
              "        [[ 0.18745366,  0.02114988,  0.0524345 ,  0.0065387 ,\n",
              "          -0.41094616, -0.32388848, -0.10374741,  0.19038247,\n",
              "           0.34760526, -0.10981853, -0.01546415, -0.04449264,\n",
              "          -0.00453115,  0.08051801,  0.3025108 ,  0.21797766]],\n",
              "\n",
              "        [[-0.01343641, -0.13903245, -0.45551863, -0.035662  ,\n",
              "          -0.31373483, -0.09900758,  0.4687107 ,  0.10849679,\n",
              "           0.08304095,  0.16976978, -0.03050124,  0.10524313,\n",
              "           0.05180854,  0.08742884,  0.13170828,  0.19850783]]]],\n",
              "      dtype=float32)"
            ]
          },
          "metadata": {},
          "execution_count": 19
        }
      ]
    },
    {
      "cell_type": "code",
      "metadata": {
        "id": "XJ0oUxm3oe0O",
        "colab": {
          "base_uri": "https://localhost:8080/"
        },
        "outputId": "bd43d515-c136-41ef-e8ab-bae54893bc13"
      },
      "source": [
        "encoder = keras.Model(input_img, encoded)\n",
        "encoded_img=encoder.predict(data)\n"
      ],
      "execution_count": null,
      "outputs": [
        {
          "output_type": "stream",
          "name": "stdout",
          "text": [
            "WARNING:tensorflow:5 out of the last 9 calls to <function Model.make_predict_function.<locals>.predict_function at 0x7f561fb2f5f0> triggered tf.function retracing. Tracing is expensive and the excessive number of tracings could be due to (1) creating @tf.function repeatedly in a loop, (2) passing tensors with different shapes, (3) passing Python objects instead of tensors. For (1), please define your @tf.function outside of the loop. For (2), @tf.function has experimental_relax_shapes=True option that relaxes argument shapes that can avoid unnecessary retracing. For (3), please refer to https://www.tensorflow.org/guide/function#controlling_retracing and https://www.tensorflow.org/api_docs/python/tf/function for  more details.\n"
          ]
        }
      ]
    },
    {
      "cell_type": "code",
      "metadata": {
        "colab": {
          "base_uri": "https://localhost:8080/"
        },
        "id": "OUp6v6QopOAE",
        "outputId": "3d1987ad-a1bd-4be2-db6c-70648111c4fa"
      },
      "source": [
        "encoder.summary()"
      ],
      "execution_count": null,
      "outputs": [
        {
          "output_type": "stream",
          "name": "stdout",
          "text": [
            "Model: \"model_10\"\n",
            "_________________________________________________________________\n",
            " Layer (type)                Output Shape              Param #   \n",
            "=================================================================\n",
            " input_5 (InputLayer)        [(None, 28, 28, 1)]       0         \n",
            "                                                                 \n",
            " conv2d_14 (Conv2D)          (None, 28, 28, 16)        160       \n",
            "                                                                 \n",
            " max_pooling2d_6 (MaxPooling  (None, 14, 14, 16)       0         \n",
            " 2D)                                                             \n",
            "                                                                 \n",
            " conv2d_15 (Conv2D)          (None, 14, 14, 8)         1160      \n",
            "                                                                 \n",
            " max_pooling2d_7 (MaxPooling  (None, 7, 7, 8)          0         \n",
            " 2D)                                                             \n",
            "                                                                 \n",
            " conv2d_16 (Conv2D)          (None, 7, 7, 8)           584       \n",
            "                                                                 \n",
            " max_pooling2d_8 (MaxPooling  (None, 4, 4, 8)          0         \n",
            " 2D)                                                             \n",
            "                                                                 \n",
            "=================================================================\n",
            "Total params: 1,904\n",
            "Trainable params: 1,904\n",
            "Non-trainable params: 0\n",
            "_________________________________________________________________\n"
          ]
        }
      ]
    },
    {
      "cell_type": "code",
      "metadata": {
        "id": "FfjlSm0Dosjz"
      },
      "source": [
        "input=keras.layers.Input(shape=encoded_img.shape[1:])\n",
        "x = autoencoder.layers[-7](input)\n",
        "x = autoencoder.layers[-6](x)\n",
        "x = autoencoder.layers[-5](x)\n",
        "x = autoencoder.layers[-4](x)\n",
        "x = autoencoder.layers[-3](x)\n",
        "x = autoencoder.layers[-2](x)\n",
        "decoded = autoencoder.layers[-1](x)\n",
        "decoder = keras.Model(input, decoded)"
      ],
      "execution_count": null,
      "outputs": []
    },
    {
      "cell_type": "code",
      "metadata": {
        "colab": {
          "base_uri": "https://localhost:8080/"
        },
        "id": "pNGmqy_nqlBW",
        "outputId": "e5bdaaa3-3bae-4842-bcf5-e58eaf4f6c75"
      },
      "source": [
        "decoder.summary()"
      ],
      "execution_count": null,
      "outputs": [
        {
          "output_type": "stream",
          "name": "stdout",
          "text": [
            "Model: \"model_11\"\n",
            "_________________________________________________________________\n",
            " Layer (type)                Output Shape              Param #   \n",
            "=================================================================\n",
            " input_6 (InputLayer)        [(None, 4, 4, 8)]         0         \n",
            "                                                                 \n",
            " conv2d_17 (Conv2D)          (None, 4, 4, 8)           584       \n",
            "                                                                 \n",
            " up_sampling2d_3 (UpSampling  (None, 8, 8, 8)          0         \n",
            " 2D)                                                             \n",
            "                                                                 \n",
            " conv2d_18 (Conv2D)          (None, 8, 8, 8)           584       \n",
            "                                                                 \n",
            " up_sampling2d_4 (UpSampling  (None, 16, 16, 8)        0         \n",
            " 2D)                                                             \n",
            "                                                                 \n",
            " conv2d_19 (Conv2D)          (None, 14, 14, 16)        1168      \n",
            "                                                                 \n",
            " up_sampling2d_5 (UpSampling  (None, 28, 28, 16)       0         \n",
            " 2D)                                                             \n",
            "                                                                 \n",
            " conv2d_20 (Conv2D)          (None, 28, 28, 1)         145       \n",
            "                                                                 \n",
            "=================================================================\n",
            "Total params: 2,481\n",
            "Trainable params: 2,481\n",
            "Non-trainable params: 0\n",
            "_________________________________________________________________\n"
          ]
        }
      ]
    },
    {
      "cell_type": "code",
      "metadata": {
        "id": "HKALfyltrrNt",
        "colab": {
          "base_uri": "https://localhost:8080/"
        },
        "outputId": "8885e8e1-ee7e-43eb-f6ec-4fc97b10258c"
      },
      "source": [
        "encoded_img=encoder.predict(data)\n",
        "decoded_img=decoder.predict(encoded_img)"
      ],
      "execution_count": null,
      "outputs": [
        {
          "output_type": "stream",
          "name": "stdout",
          "text": [
            "WARNING:tensorflow:6 out of the last 11 calls to <function Model.make_predict_function.<locals>.predict_function at 0x7f561efe9d40> triggered tf.function retracing. Tracing is expensive and the excessive number of tracings could be due to (1) creating @tf.function repeatedly in a loop, (2) passing tensors with different shapes, (3) passing Python objects instead of tensors. For (1), please define your @tf.function outside of the loop. For (2), @tf.function has experimental_relax_shapes=True option that relaxes argument shapes that can avoid unnecessary retracing. For (3), please refer to https://www.tensorflow.org/guide/function#controlling_retracing and https://www.tensorflow.org/api_docs/python/tf/function for  more details.\n"
          ]
        }
      ]
    },
    {
      "cell_type": "code",
      "metadata": {
        "colab": {
          "base_uri": "https://localhost:8080/"
        },
        "id": "qjlvZxeKslbh",
        "outputId": "d89fb450-a828-4917-a37c-43b42a18b523"
      },
      "source": [
        "decoded_img.shape"
      ],
      "execution_count": null,
      "outputs": [
        {
          "output_type": "execute_result",
          "data": {
            "text/plain": [
              "(20, 28, 28, 1)"
            ]
          },
          "metadata": {},
          "execution_count": 41
        }
      ]
    },
    {
      "cell_type": "code",
      "metadata": {
        "colab": {
          "base_uri": "https://localhost:8080/",
          "height": 263
        },
        "id": "Po3U6ul1sn3c",
        "outputId": "618d3275-0bf0-4037-e794-7915ac05268d"
      },
      "source": [
        "import matplotlib.pyplot as plt\n",
        "\n",
        "n = 10\n",
        "plt.figure(figsize=(20, 4))\n",
        "for i in range(1, n + 1):\n",
        "    # Display original\n",
        "    ax = plt.subplot(2, n, i)\n",
        "    plt.imshow(data[i].reshape(28, 28))\n",
        "    plt.gray()\n",
        "\n",
        "    # Display reconstruction\n",
        "    ax = plt.subplot(2, n, i + n)\n",
        "    plt.imshow(decoded_img[i].reshape(28, 28))\n",
        "    plt.gray()\n",
        "\n",
        "plt.show()\n"
      ],
      "execution_count": null,
      "outputs": [
        {
          "output_type": "display_data",
          "data": {
            "image/png": "[encoded data removed]",
            "text/plain": [
              "<Figure size 1440x288 with 20 Axes>"
            ]
          },
          "metadata": {
            "needs_background": "light"
          }
        }
      ]
    },
    {
      "cell_type": "code",
      "metadata": {
        "colab": {
          "base_uri": "https://localhost:8080/",
          "height": 97
        },
        "id": "TK2EJF7I3YW6",
        "outputId": "088f9b63-ef35-4b22-8e79-189aae49535b"
      },
      "source": [
        "n = 19\n",
        "plt.figure(figsize=(20, 4))\n",
        "for i in range(1, n + 1):\n",
        "    ax = plt.subplot(2, n, i)\n",
        "    plt.imshow(encoded_img[i,:,:,1].reshape(4, 4))\n",
        "    plt.gray()\n",
        "plt.show()"
      ],
      "execution_count": null,
      "outputs": [
        {
          "output_type": "display_data",
          "data": {
            "image/png": "[encoded data removed]",
            "text/plain": [
              "<Figure size 1440x288 with 19 Axes>"
            ]
          },
          "metadata": {
            "needs_background": "light"
          }
        }
      ]
    },
    {
      "cell_type": "code",
      "metadata": {
        "id": "doz4r0sOs2Vp"
      },
      "source": [
        "# model 2\n",
        "# Encoder\n",
        "input_img = keras.Input(shape=(28, 28, 1))\n",
        "x = layers.Conv2D(16, (16, 16), activation='relu', padding='same')(input_img)\n",
        "x = layers.MaxPooling2D((2, 2), padding='same')(x)\n",
        "x = layers.Conv2D(32, (8, 8), activation='relu', padding='same')(x)\n",
        "x = layers.MaxPooling2D((2, 2), padding='same')(x)\n",
        "x = layers.Conv2D(64, (4, 4), activation='relu', padding='same')(x)\n",
        "encoded = layers.MaxPooling2D((2, 2), padding='same')(x)\n",
        "# Decoder\n",
        "x = layers.Conv2D(64, (4, 4), activation='relu', padding='same')(encoded)\n",
        "x = layers.Conv2DTranspose(64,5)(x)\n",
        "x = layers.Conv2D(32, (8, 8), activation='relu', padding='same')(x)\n",
        "x = layers.Conv2DTranspose(32,8)(x)\n",
        "x = layers.Conv2D(16, (3, 3), activation='relu')(x)\n",
        "x = layers.Conv2DTranspose(16,16)(x)\n",
        "decoded = layers.Conv2D(1, (3, 3), activation='sigmoid', padding='same')(x)"
      ],
      "execution_count": null,
      "outputs": []
    },
    {
      "cell_type": "code",
      "metadata": {
        "colab": {
          "base_uri": "https://localhost:8080/"
        },
        "id": "PzGEJvacvDgA",
        "outputId": "bb8da8be-9f3a-4309-fc07-49e313c89c4d"
      },
      "source": [
        "autoencoder = keras.Model(input_img, decoded)\n",
        "autoencoder.compile(optimizer='adam', loss='binary_crossentropy',metrics=['accuracy'])\n",
        "autoencoder.summary()"
      ],
      "execution_count": null,
      "outputs": [
        {
          "output_type": "stream",
          "name": "stdout",
          "text": [
            "Model: \"model\"\n",
            "_________________________________________________________________\n",
            " Layer (type)                Output Shape              Param #   \n",
            "=================================================================\n",
            " input_2 (InputLayer)        [(None, 28, 28, 1)]       0         \n",
            "                                                                 \n",
            " conv2d_7 (Conv2D)           (None, 28, 28, 16)        4112      \n",
            "                                                                 \n",
            " max_pooling2d_3 (MaxPooling  (None, 14, 14, 16)       0         \n",
            " 2D)                                                             \n",
            "                                                                 \n",
            " conv2d_8 (Conv2D)           (None, 14, 14, 32)        32800     \n",
            "                                                                 \n",
            " max_pooling2d_4 (MaxPooling  (None, 7, 7, 32)         0         \n",
            " 2D)                                                             \n",
            "                                                                 \n",
            " conv2d_9 (Conv2D)           (None, 7, 7, 64)          32832     \n",
            "                                                                 \n",
            " max_pooling2d_5 (MaxPooling  (None, 4, 4, 64)         0         \n",
            " 2D)                                                             \n",
            "                                                                 \n",
            " conv2d_10 (Conv2D)          (None, 4, 4, 64)          65600     \n",
            "                                                                 \n",
            " conv2d_transpose_3 (Conv2DT  (None, 8, 8, 64)         102464    \n",
            " ranspose)                                                       \n",
            "                                                                 \n",
            " conv2d_11 (Conv2D)          (None, 8, 8, 32)          131104    \n",
            "                                                                 \n",
            " conv2d_transpose_4 (Conv2DT  (None, 15, 15, 32)       65568     \n",
            " ranspose)                                                       \n",
            "                                                                 \n",
            " conv2d_12 (Conv2D)          (None, 13, 13, 16)        4624      \n",
            "                                                                 \n",
            " conv2d_transpose_5 (Conv2DT  (None, 28, 28, 16)       65552     \n",
            " ranspose)                                                       \n",
            "                                                                 \n",
            " conv2d_13 (Conv2D)          (None, 28, 28, 1)         145       \n",
            "                                                                 \n",
            "=================================================================\n",
            "Total params: 504,801\n",
            "Trainable params: 504,801\n",
            "Non-trainable params: 0\n",
            "_________________________________________________________________\n"
          ]
        }
      ]
    },
    {
      "cell_type": "code",
      "metadata": {
        "id": "SBfH4t5cvfdn"
      },
      "source": [],
      "execution_count": null,
      "outputs": []
    },
    {
      "cell_type": "code",
      "metadata": {
        "colab": {
          "base_uri": "https://localhost:8080/"
        },
        "id": "9mtWBn6xxqlg",
        "outputId": "3a7790f5-77ca-4f9a-ce8d-4f1a1979f819"
      },
      "source": [
        "autoencoder.fit(x_train, x_train,\n",
        "                epochs=20, #50,\n",
        "                batch_size=128,\n",
        "                shuffle=True,\n",
        "                validation_data=(x_test, x_test))\n"
      ],
      "execution_count": null,
      "outputs": [
        {
          "output_type": "stream",
          "name": "stdout",
          "text": [
            "Epoch 1/20\n",
            "469/469 [==============================] - 20s 16ms/step - loss: 0.2159 - accuracy: 0.7988 - val_loss: 0.1370 - val_accuracy: 0.8067\n",
            "Epoch 2/20\n",
            "469/469 [==============================] - 6s 13ms/step - loss: 0.1157 - accuracy: 0.8108 - val_loss: 0.1007 - val_accuracy: 0.8119\n",
            "Epoch 3/20\n",
            "469/469 [==============================] - 6s 13ms/step - loss: 0.0961 - accuracy: 0.8134 - val_loss: 0.0893 - val_accuracy: 0.8131\n",
            "Epoch 4/20\n",
            "469/469 [==============================] - 6s 13ms/step - loss: 0.0886 - accuracy: 0.8142 - val_loss: 0.0851 - val_accuracy: 0.8134\n",
            "Epoch 5/20\n",
            "469/469 [==============================] - 7s 14ms/step - loss: 0.0842 - accuracy: 0.8146 - val_loss: 0.0814 - val_accuracy: 0.8138\n",
            "Epoch 6/20\n",
            "469/469 [==============================] - 6s 13ms/step - loss: 0.0814 - accuracy: 0.8148 - val_loss: 0.0807 - val_accuracy: 0.8140\n",
            "Epoch 7/20\n",
            "469/469 [==============================] - 6s 13ms/step - loss: 0.0793 - accuracy: 0.8149 - val_loss: 0.0772 - val_accuracy: 0.8140\n",
            "Epoch 8/20\n",
            "469/469 [==============================] - 6s 13ms/step - loss: 0.0778 - accuracy: 0.8150 - val_loss: 0.0765 - val_accuracy: 0.8141\n",
            "Epoch 9/20\n",
            "469/469 [==============================] - 6s 14ms/step - loss: 0.0765 - accuracy: 0.8151 - val_loss: 0.0766 - val_accuracy: 0.8140\n",
            "Epoch 10/20\n",
            "469/469 [==============================] - 6s 13ms/step - loss: 0.0754 - accuracy: 0.8151 - val_loss: 0.0752 - val_accuracy: 0.8141\n",
            "Epoch 11/20\n",
            "469/469 [==============================] - 6s 14ms/step - loss: 0.0746 - accuracy: 0.8152 - val_loss: 0.0753 - val_accuracy: 0.8143\n",
            "Epoch 12/20\n",
            "469/469 [==============================] - 6s 14ms/step - loss: 0.0738 - accuracy: 0.8152 - val_loss: 0.0727 - val_accuracy: 0.8143\n",
            "Epoch 13/20\n",
            "469/469 [==============================] - 6s 13ms/step - loss: 0.0731 - accuracy: 0.8153 - val_loss: 0.0724 - val_accuracy: 0.8143\n",
            "Epoch 14/20\n",
            "469/469 [==============================] - 6s 13ms/step - loss: 0.0726 - accuracy: 0.8153 - val_loss: 0.0728 - val_accuracy: 0.8143\n",
            "Epoch 15/20\n",
            "469/469 [==============================] - 6s 13ms/step - loss: 0.0721 - accuracy: 0.8153 - val_loss: 0.0715 - val_accuracy: 0.8143\n",
            "Epoch 16/20\n",
            "469/469 [==============================] - 6s 13ms/step - loss: 0.0716 - accuracy: 0.8153 - val_loss: 0.0708 - val_accuracy: 0.8143\n",
            "Epoch 17/20\n",
            "469/469 [==============================] - 6s 13ms/step - loss: 0.0713 - accuracy: 0.8153 - val_loss: 0.0706 - val_accuracy: 0.8144\n",
            "Epoch 18/20\n",
            "469/469 [==============================] - 6s 13ms/step - loss: 0.0709 - accuracy: 0.8153 - val_loss: 0.0703 - val_accuracy: 0.8144\n",
            "Epoch 19/20\n",
            "469/469 [==============================] - 6s 13ms/step - loss: 0.0706 - accuracy: 0.8154 - val_loss: 0.0705 - val_accuracy: 0.8144\n",
            "Epoch 20/20\n",
            "469/469 [==============================] - 6s 13ms/step - loss: 0.0703 - accuracy: 0.8154 - val_loss: 0.0699 - val_accuracy: 0.8144\n"
          ]
        },
        {
          "output_type": "execute_result",
          "data": {
            "text/plain": [
              "<keras.callbacks.History at 0x7a66a8111a50>"
            ]
          },
          "metadata": {},
          "execution_count": 8
        }
      ]
    },
    {
      "cell_type": "code",
      "metadata": {
        "id": "kaRPyH0q1Qa8",
        "colab": {
          "base_uri": "https://localhost:8080/"
        },
        "outputId": "3baae84a-da7e-4c0e-fd67-657374a16e90"
      },
      "source": [
        "encoder = keras.Model(input_img, encoded)\n",
        "encoded_imgs=encoder.predict(data)"
      ],
      "execution_count": null,
      "outputs": [
        {
          "output_type": "stream",
          "name": "stdout",
          "text": [
            "1/1 [==============================] - 0s 168ms/step\n"
          ]
        }
      ]
    },
    {
      "cell_type": "code",
      "metadata": {
        "colab": {
          "base_uri": "https://localhost:8080/"
        },
        "id": "pW-RLze7x0Qw",
        "outputId": "8bb89d36-7910-4116-ebac-ef36fa8e9e62"
      },
      "source": [
        "input=keras.layers.Input(shape=encoded_imgs.shape[1:])\n",
        "x = autoencoder.layers[-7](input)\n",
        "x = autoencoder.layers[-6](x)\n",
        "x = autoencoder.layers[-5](x)\n",
        "x = autoencoder.layers[-4](x)\n",
        "x = autoencoder.layers[-3](x)\n",
        "x = autoencoder.layers[-2](x)\n",
        "decoded = autoencoder.layers[-1](x)\n",
        "decoder = keras.Model(input, decoded)\n",
        "decoder.summary()"
      ],
      "execution_count": null,
      "outputs": [
        {
          "output_type": "stream",
          "name": "stdout",
          "text": [
            "Model: \"model_2\"\n",
            "_________________________________________________________________\n",
            " Layer (type)                Output Shape              Param #   \n",
            "=================================================================\n",
            " input_3 (InputLayer)        [(None, 4, 4, 64)]        0         \n",
            "                                                                 \n",
            " conv2d_10 (Conv2D)          (None, 4, 4, 64)          65600     \n",
            "                                                                 \n",
            " conv2d_transpose_3 (Conv2DT  (None, 8, 8, 64)         102464    \n",
            " ranspose)                                                       \n",
            "                                                                 \n",
            " conv2d_11 (Conv2D)          (None, 8, 8, 32)          131104    \n",
            "                                                                 \n",
            " conv2d_transpose_4 (Conv2DT  (None, 15, 15, 32)       65568     \n",
            " ranspose)                                                       \n",
            "                                                                 \n",
            " conv2d_12 (Conv2D)          (None, 13, 13, 16)        4624      \n",
            "                                                                 \n",
            " conv2d_transpose_5 (Conv2DT  (None, 28, 28, 16)       65552     \n",
            " ranspose)                                                       \n",
            "                                                                 \n",
            " conv2d_13 (Conv2D)          (None, 28, 28, 1)         145       \n",
            "                                                                 \n",
            "=================================================================\n",
            "Total params: 435,057\n",
            "Trainable params: 435,057\n",
            "Non-trainable params: 0\n",
            "_________________________________________________________________\n"
          ]
        }
      ]
    },
    {
      "cell_type": "code",
      "metadata": {
        "colab": {
          "base_uri": "https://localhost:8080/",
          "height": 358
        },
        "id": "GhG6VNh4yIvu",
        "outputId": "fe1b94a1-f4b9-474d-8452-32a8d2b7d969"
      },
      "source": [
        "encoded_img=encoder.predict(data)\n",
        "decoded_img=decoder.predict(encoded_img)\n",
        "import matplotlib.pyplot as plt\n",
        "\n",
        "n = 10\n",
        "plt.figure(figsize=(20, 4))\n",
        "for i in range(1, n + 1):\n",
        "    # Display original\n",
        "    ax = plt.subplot(2, n, i)\n",
        "    plt.imshow(data[i].reshape(28, 28))\n",
        "    plt.gray()\n",
        "    # Display reconstruction\n",
        "    ax = plt.subplot(2, n, i + n)\n",
        "    plt.imshow(decoded_img[i].reshape(28, 28))\n",
        "    plt.gray()\n",
        "\n",
        "plt.show()"
      ],
      "execution_count": null,
      "outputs": [
        {
          "output_type": "stream",
          "name": "stdout",
          "text": [
            "1/1 [==============================] - 0s 19ms/step\n",
            "1/1 [==============================] - 0s 327ms/step\n"
          ]
        },
        {
          "output_type": "display_data",
          "data": {
            "text/plain": [
              "<Figure size 2000x400 with 20 Axes>"
            ],
            "image/png": "[encoded data removed]"
          },
          "metadata": {}
        }
      ]
    },
    {
      "cell_type": "code",
      "metadata": {
        "colab": {
          "base_uri": "https://localhost:8080/",
          "height": 358
        },
        "id": "hPHC5v8Ky4FU",
        "outputId": "270e2af6-c37c-4ffa-cb6f-9f4f49b58fb3"
      },
      "source": [
        "\n",
        "import matplotlib.pyplot as plt\n",
        "np.random.seed(1)\n",
        "noise = np.random.normal(loc=0.0, scale=0.25, size=data.shape)\n",
        "data_noise=data+noise\n",
        "encoded_img=encoder.predict(data_noise)\n",
        "decoded_img=decoder.predict(encoded_img)\n",
        "n = 10\n",
        "plt.figure(figsize=(20, 4))\n",
        "for i in range(1, n + 1):\n",
        "    # Display original\n",
        "    ax = plt.subplot(2, n, i)\n",
        "    plt.imshow(data_noise[i].reshape(28, 28))\n",
        "    plt.gray()\n",
        "    # Display reconstruction\n",
        "    ax = plt.subplot(2, n, i + n)\n",
        "    plt.imshow(decoded_img[i].reshape(28, 28))\n",
        "    plt.gray()\n",
        "\n",
        "plt.show()"
      ],
      "execution_count": null,
      "outputs": [
        {
          "output_type": "stream",
          "name": "stdout",
          "text": [
            "1/1 [==============================] - 0s 18ms/step\n",
            "1/1 [==============================] - 0s 21ms/step\n"
          ]
        },
        {
          "output_type": "display_data",
          "data": {
            "text/plain": [
              "<Figure size 2000x400 with 20 Axes>"
            ],
            "image/png": "[encoded data removed]"
          },
          "metadata": {}
        }
      ]
    },
    {
      "cell_type": "code",
      "metadata": {
        "id": "AHNJtYKh3m09"
      },
      "source": [],
      "execution_count": null,
      "outputs": []
    },
    {
      "cell_type": "code",
      "metadata": {
        "id": "bhFPmtkx4A3b"
      },
      "source": [],
      "execution_count": null,
      "outputs": []
    },
    {
      "cell_type": "code",
      "metadata": {
        "id": "Q29KGtMRDR6S"
      },
      "source": [],
      "execution_count": null,
      "outputs": []
    },
    {
      "cell_type": "code",
      "metadata": {
        "id": "ojcR9aDjFH4B"
      },
      "source": [],
      "execution_count": null,
      "outputs": []
    }
  ]
}